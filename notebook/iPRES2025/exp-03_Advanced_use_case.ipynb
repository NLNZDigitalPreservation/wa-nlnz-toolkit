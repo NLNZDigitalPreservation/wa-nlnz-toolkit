{
 "cells": [
  {
   "cell_type": "code",
   "execution_count": 2,
   "id": "4c211e70",
   "metadata": {},
   "outputs": [
    {
     "name": "stdout",
     "output_type": "stream",
     "text": [
      "Detected 601 common lines (likely headers/footers).\n"
     ]
    }
   ],
   "source": [
    "import os\n",
    "import re\n",
    "from collections import Counter\n",
    "\n",
    "folder_path = \"./\"\n",
    "cleaned_path = \"./covid19_corpus/cleaned/\"\n",
    "os.makedirs(cleaned_path, exist_ok=True)\n",
    "\n",
    "def clean_text(text):\n",
    "    # Normalize whitespace\n",
    "    text = re.sub(r'\\s+', ' ', text).strip()\n",
    "    # Remove HTML entities like &nbsp; &lt; etc.\n",
    "    text = re.sub(r'&[a-zA-Z]+;', '', text)\n",
    "    # Remove repeated separators or banners\n",
    "    text = re.sub(r'[-_=]{3,}', '', text)\n",
    "    return text\n",
    "\n",
    "# Step 1: Collect all lines across files\n",
    "all_lines = []\n",
    "file_texts = {}\n",
    "\n",
    "for file in os.listdir(folder_path):\n",
    "    if file.endswith(\".txt\"):\n",
    "        with open(os.path.join(folder_path, file), \"r\", encoding=\"utf-8\") as f:\n",
    "            lines = [clean_text(line) for line in f if len(line.strip()) > 0]\n",
    "            file_texts[file] = lines\n",
    "            all_lines.extend(lines)\n",
    "\n",
    "# Step 2: Identify duplicate lines across files (e.g., headers)\n",
    "line_counts = Counter(all_lines)\n",
    "common_lines = {line for line, count in line_counts.items() if count > len(file_texts) * 0.5}\n",
    "\n",
    "print(f\"Detected {len(common_lines)} common lines (likely headers/footers).\")\n",
    "\n",
    "# Step 3: Remove them and save cleaned files\n",
    "for file, lines in file_texts.items():\n",
    "    filtered = [line for line in lines if line not in common_lines]\n",
    "    cleaned_text = \"\\n\".join(filtered)\n",
    "    with open(os.path.join(cleaned_path, file), \"w\", encoding=\"utf-8\") as f:\n",
    "        f.write(cleaned_text)\n"
   ]
  },
  {
   "cell_type": "code",
   "execution_count": null,
   "id": "5e3506d3",
   "metadata": {},
   "outputs": [],
   "source": []
  }
 ],
 "metadata": {
  "kernelspec": {
   "display_name": ".venv",
   "language": "python",
   "name": "python3"
  },
  "language_info": {
   "codemirror_mode": {
    "name": "ipython",
    "version": 3
   },
   "file_extension": ".py",
   "mimetype": "text/x-python",
   "name": "python",
   "nbconvert_exporter": "python",
   "pygments_lexer": "ipython3",
   "version": "3.11.6"
  }
 },
 "nbformat": 4,
 "nbformat_minor": 5
}
