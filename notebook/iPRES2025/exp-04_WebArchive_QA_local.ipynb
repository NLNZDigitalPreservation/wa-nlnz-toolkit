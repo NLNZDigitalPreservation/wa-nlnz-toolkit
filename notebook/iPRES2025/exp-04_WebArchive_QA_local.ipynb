{
 "cells": [
  {
   "cell_type": "markdown",
   "id": "ee880dee",
   "metadata": {},
   "source": [
    "# Local LLM\n",
    "\n",
    "Local Question-Answering System using Chroma + Qwen LLM\n",
    "\n",
    "This script retrieves relevant context from a local Chroma vector database and answers user questions using a locally loaded Qwen model.\n",
    "\n",
    "> NOTE - running on CPU-only machine usually be very slow, change the MODEL to a smaller one or use a GPU machine instead."
   ]
  },
  {
   "cell_type": "markdown",
   "id": "344b0f04",
   "metadata": {},
   "source": [
    "### Install pre-request modules"
   ]
  },
  {
   "cell_type": "code",
   "execution_count": null,
   "id": "1f766b7d",
   "metadata": {},
   "outputs": [],
   "source": [
    "!pip install langchain langchain-core langchain-chroma langchain-huggingface transformers chromadb"
   ]
  },
  {
   "cell_type": "markdown",
   "id": "8e8fd3d8",
   "metadata": {},
   "source": [
    "### Import modules"
   ]
  },
  {
   "cell_type": "code",
   "execution_count": null,
   "id": "be49e9f1",
   "metadata": {},
   "outputs": [],
   "source": [
    "from transformers import pipeline\n",
    "from langchain_classic.chains import create_retrieval_chain\n",
    "from langchain_classic.chains.combine_documents import create_stuff_documents_chain\n",
    "from langchain_core.prompts import ChatPromptTemplate\n",
    "from langchain_huggingface import HuggingFacePipeline, HuggingFaceEmbeddings\n",
    "from langchain_chroma import Chroma"
   ]
  },
  {
   "cell_type": "markdown",
   "id": "d75be382",
   "metadata": {},
   "source": [
    "### Configuration of the runtime environment"
   ]
  },
  {
   "cell_type": "code",
   "execution_count": null,
   "id": "0cd590a5",
   "metadata": {},
   "outputs": [],
   "source": [
    "CHROMA_DIR = \"./sample_data/chroma_db\"          # Path to persisted Chroma DB\n",
    "COLLECTION_NAME = \"covid_webpages\"\n",
    "EMBEDDING_MODEL = \"sentence-transformers/all-MiniLM-L6-v2\"\n",
    "GEN_MODEL = \"Qwen/Qwen2.5-1.5B-Instruct\"  # Qwen model on Hugging Face\n",
    "PIPELINE_TASK = \"text-generation\"\n",
    "RETRIEVAL_K = 5\n",
    "MAX_GEN_TOKENS = 512"
   ]
  },
  {
   "cell_type": "markdown",
   "id": "ad5b7312",
   "metadata": {},
   "source": [
    "### Load embedding model and database"
   ]
  },
  {
   "cell_type": "code",
   "execution_count": null,
   "id": "2c2c3b24",
   "metadata": {},
   "outputs": [],
   "source": [
    "embedding_model = HuggingFaceEmbeddings(model_name=GEN_MODEL)\n",
    "vectorstore = Chroma(\n",
    "    persist_directory=CHROMA_DIR,\n",
    "    collection_name=COLLECTION_NAME,\n",
    "    embedding_function=embedding_model\n",
    ")\n",
    "retriever = vectorstore.as_retriever(search_kwargs={\"k\": RETRIEVAL_K})"
   ]
  },
  {
   "cell_type": "markdown",
   "id": "112eed25",
   "metadata": {},
   "source": [
    "### Load LLM model"
   ]
  },
  {
   "cell_type": "code",
   "execution_count": null,
   "id": "8eb032ec",
   "metadata": {},
   "outputs": [],
   "source": [
    "def create_llm_pipeline(model_name: str, task: str, max_tokens: int):\n",
    "    \"\"\"Initialize the HuggingFace text generation pipeline.\"\"\"\n",
    "    gen_pipe = pipeline(\n",
    "        task,\n",
    "        model=model_name,\n",
    "        tokenizer=model_name,\n",
    "        max_new_tokens=max_tokens,\n",
    "        temperature=0.7,\n",
    "        do_sample=True\n",
    "    )\n",
    "    return HuggingFacePipeline(pipeline=gen_pipe)\n",
    "\n",
    "\n",
    "llm = create_llm_pipeline(GEN_MODEL, PIPELINE_TASK, MAX_GEN_TOKENS)"
   ]
  },
  {
   "cell_type": "markdown",
   "id": "33806ebf",
   "metadata": {},
   "source": [
    "### Build QA chain"
   ]
  },
  {
   "cell_type": "code",
   "execution_count": null,
   "id": "d231fe06",
   "metadata": {},
   "outputs": [],
   "source": [
    "def create_qa_prompt():\n",
    "    \"\"\"Create a prompt template for the QA chain.\"\"\"\n",
    "    system_prompt = (\n",
    "        \"You are an assistant for question-answering tasks. \"\n",
    "        \"Use the following pieces of retrieved context to answer \"\n",
    "        \"the question. If you don't know the answer, say that you \"\n",
    "        \"don't know. Use three sentences maximum and keep the \"\n",
    "        \"answer concise.\"\n",
    "        \"\\n\\n\"\n",
    "        \"{context}\"\n",
    "    )\n",
    "    \n",
    "    return ChatPromptTemplate.from_messages([\n",
    "        (\"system\", system_prompt),\n",
    "        (\"human\", \"{input}\"),\n",
    "    ])\n",
    "    \n",
    "\n",
    "def build_qa_chain(llm, retriever):\n",
    "    \"\"\"Combine retriever and LLM into a QA chain using modern LangChain.\"\"\"\n",
    "    prompt = create_qa_prompt()\n",
    "    \n",
    "    # Create the document combination chain\n",
    "    question_answer_chain = create_stuff_documents_chain(llm, prompt)\n",
    "    \n",
    "    # Create the full retrieval chain\n",
    "    rag_chain = create_retrieval_chain(retriever, question_answer_chain)\n",
    "    \n",
    "    return rag_chain\n",
    "\n",
    "\n",
    "qa_chain = build_qa_chain(llm, retriever)"
   ]
  },
  {
   "cell_type": "code",
   "execution_count": null,
   "id": "3ea37ccc",
   "metadata": {},
   "outputs": [],
   "source": [
    "# Example query\n",
    "query = \"What is the impact of the pandemic on the economy?\"\n",
    "result = qa_chain.invoke({\"input\": query})"
   ]
  },
  {
   "cell_type": "markdown",
   "id": "c1632422",
   "metadata": {},
   "source": [
    "### Show results"
   ]
  },
  {
   "cell_type": "code",
   "execution_count": null,
   "id": "55c249ce",
   "metadata": {},
   "outputs": [],
   "source": [
    "def display_result(query: str, result: dict):\n",
    "    \"\"\"Pretty-print the question, answer, and sources.\"\"\"\n",
    "    print(f\"🔹 Question: {query}\")\n",
    "    print(f\"🔹 Answer: {result['answer']}\\n\")\n",
    "    print(\"🔹 Sources:\")\n",
    "    for doc in result[\"context\"]:\n",
    "        filename = doc.metadata.get(\"filename\", \"Unknown source\")\n",
    "        preview = doc.page_content[:200].replace(\"\\n\", \" \")\n",
    "        print(f\"- {filename} → {preview}...\\n\")\n",
    "\n",
    "\n",
    "display_result(query, result)"
   ]
  }
 ],
 "metadata": {
  "kernelspec": {
   "display_name": "Python 3",
   "language": "python",
   "name": "python3"
  },
  "language_info": {
   "codemirror_mode": {
    "name": "ipython",
    "version": 3
   },
   "file_extension": ".py",
   "mimetype": "text/x-python",
   "name": "python",
   "nbconvert_exporter": "python",
   "pygments_lexer": "ipython3",
   "version": "3.12.1"
  }
 },
 "nbformat": 4,
 "nbformat_minor": 5
}
