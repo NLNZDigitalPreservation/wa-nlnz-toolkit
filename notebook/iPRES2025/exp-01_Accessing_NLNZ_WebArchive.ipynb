{
  "cells": [
    {
      "cell_type": "markdown",
      "metadata": {
        "id": "tl17JJGSkR5P"
      },
      "source": [
        "# Accessing the NLNZ Web archive dataset\n",
        "\n",
        "This notebook includes the following sections,\n",
        "1. Query web archive data using Memento\n",
        "2. Query web archive data using CDX API\n",
        "3. Access CDX and WARC files\n",
        "4. Extracting metadata (URLs, timestamps, MIME types).\n"
      ]
    },
    {
      "cell_type": "markdown",
      "metadata": {
        "id": "GlgC4Rh2ks9E"
      },
      "source": [
        "## Install required python packages"
      ]
    },
    {
      "cell_type": "code",
      "execution_count": null,
      "metadata": {
        "id": "dmCJWHyxemfc"
      },
      "outputs": [],
      "source": [
        "# Install pre-requisites\n",
        "!pip -q install warcio>=1.7.4 validators boto3>=1.40.26 s3fs bs4 wordcloud\n",
        "!pip -q install selenium chromedriver-autoinstaller # for webpage screenshots"
      ]
    },
    {
      "cell_type": "code",
      "execution_count": null,
      "metadata": {
        "id": "BFXIsPkfakpi"
      },
      "outputs": [],
      "source": [
        "# Install wa_nlnz_toolkit\n",
        "!pip -q install -i https://test.pypi.org/simple/ wa-nlnz-toolkit==0.2.1"
      ]
    },
    {
      "cell_type": "markdown",
      "metadata": {
        "id": "4HJpRLC2k8Ib"
      },
      "source": [
        "## Query web archive data using Memento\n",
        "\n",
        "The **Memento protocol** makes it easier to find and use archived versions of web pages, even if other APIs aren't available. This gives us machine-readable information about web captures.\n",
        "\n",
        "In the following section, we'll see how NLNZ web archive support the Memento protocol. Specifically, we'll look at three main features:\n",
        "- TimeGate - get the version of a page closest to a date you choose.\n",
        "- TimeMap -  see all archived versions of a page.\n",
        "- Memento - change how an archived page is shown using special URL options"
      ]
    },
    {
      "cell_type": "code",
      "execution_count": null,
      "metadata": {
        "id": "rCtU0RaAevZC"
      },
      "outputs": [],
      "source": [
        "import wa_nlnz_toolkit as want"
      ]
    },
    {
      "cell_type": "code",
      "execution_count": null,
      "metadata": {
        "colab": {
          "base_uri": "https://localhost:8080/"
        },
        "id": "m-mjPmAlokfy",
        "outputId": "5dbe127f-9d4b-4966-c3f1-096ab94fc2cf"
      },
      "outputs": [],
      "source": [
        "webpage = \"www.natlib.govt.nz\"\n",
        "\n",
        "# default query - get latest capture\n",
        "dict(want.query_memento(webpage).headers)"
      ]
    },
    {
      "cell_type": "code",
      "execution_count": null,
      "metadata": {
        "colab": {
          "base_uri": "https://localhost:8080/"
        },
        "id": "g0o8L9zutoFV",
        "outputId": "91083279-7d60-4d83-a4e2-911c39c8fd24"
      },
      "outputs": [],
      "source": [
        "# or get a tidy-up version\n",
        "want.get_memento_urls(webpage)"
      ]
    },
    {
      "cell_type": "markdown",
      "metadata": {
        "id": "UxhCEvxA1uHw"
      },
      "source": [
        "The *link* field contains the Memento information. For this case, we can see it contains 4 link types as follows:\n",
        "\n",
        "- **original**: the url that was archived (e.g., https://covid19.govt.nz/)\n",
        "- **timegate**: the harvested url (e.g., https://ndhadeliver.natlib.govt.nz/webarchive/https://covid19.govt.nz/)\n",
        "- **timemap**: list of all available captures over time (e.g., https://ndhadeliver.natlib.govt.nz/webarchive/timemap/link/https://covid19.govt.nz/)\n",
        "- **memento**: the url of the specific archived version of the webpage (e.g., https://ndhadeliver.natlib.govt.nz/webarchive/20250728214105mp_/https://covid19.govt.nz/)\n",
        "\n",
        "By default, the *memento* shows the url from the latest capture. If a specific datetime was provided, it will return the capture closest in time to the given datetime. Example is shown below."
      ]
    },
    {
      "cell_type": "code",
      "execution_count": null,
      "metadata": {
        "colab": {
          "base_uri": "https://localhost:8080/"
        },
        "id": "5-70eDzh1zKN",
        "outputId": "1ed87213-9f50-43a4-e1ea-297631a79c6f"
      },
      "outputs": [],
      "source": [
        "import datetime\n",
        "\n",
        "\n",
        "# query for a capture closest to a given datetime\n",
        "dt_required = datetime.datetime(2020, 1, 1, 0, 0, 0)\n",
        "dict(want.query_memento(webpage, dt=dt_required).headers)"
      ]
    },
    {
      "cell_type": "code",
      "execution_count": null,
      "metadata": {
        "colab": {
          "base_uri": "https://localhost:8080/"
        },
        "id": "opV6ricYfhEn",
        "outputId": "2d79330e-e756-4574-9335-178cbcc2587f"
      },
      "outputs": [],
      "source": [
        "# or get the tidy-up version\n",
        "want.get_memento_urls(webpage, dt=dt_required)"
      ]
    },
    {
      "cell_type": "code",
      "execution_count": null,
      "metadata": {
        "colab": {
          "base_uri": "https://localhost:8080/"
        },
        "id": "ruph4d5ng9dJ",
        "outputId": "6892c265-6c15-46b6-ae99-f8f7e9bcf5d9"
      },
      "outputs": [],
      "source": [
        "want.query_memento(\"www.niwa.co.nz\").links"
      ]
    },
    {
      "cell_type": "markdown",
      "metadata": {
        "id": "3oYPvMvN3JxV"
      },
      "source": [
        "### Get full list of captures from _timemap_\n",
        "\n",
        "Memento Timemap provide a list of webpage captures for a given webpage. It is available from Pywb (NLNZ selective web archive) and OpenWayback systems. For Pywb, hree formats are supported - link, cdxj, and json.\n",
        "\n",
        "The example below show a timemap for the given webpage from NLNZ selective web archive."
      ]
    },
    {
      "cell_type": "code",
      "execution_count": null,
      "metadata": {
        "colab": {
          "base_uri": "https://localhost:8080/",
          "height": 856
        },
        "id": "rOiuxhrD3Kx2",
        "outputId": "dd86a068-f971-4c93-f801-df036ca9c574"
      },
      "outputs": [],
      "source": [
        "webpage = \"www.natlib.govt.nz\"\n",
        "\n",
        "want.get_timemap(webpage)"
      ]
    },
    {
      "cell_type": "markdown",
      "metadata": {
        "id": "3vFm7wmX4AjC"
      },
      "source": [
        "Note that the load_url field contains the URL used by Pywb internally, which cannot be used directly to access the specific version of web archive.\n",
        "\n",
        "\n",
        "Also, Memento supports changing the way it is presented by adding some modifiers to the url. For example,\n",
        "\n",
        "- **mp_** modifier: indicate \"main page\" content replay.\n",
        "- **id_** modifier: returns the original harvested version of the webpage.\n",
        "- **if_** modifier: returns the view with web archive headers (default for NLNZ web archive).\n",
        "\n",
        "For more information, check https://pywb.readthedocs.io/en/latest/manual/rewriter.html?highlight=id_#url-rewriting"
      ]
    },
    {
      "cell_type": "markdown",
      "metadata": {
        "id": "qS4hKh97lEqw"
      },
      "source": [
        "## Query web archive data using CDX API\n",
        "\n",
        "Because our OutbackCDX server is not accessed internally, the following CDX API queries were actually redirected by the pywb to the outbackCDX server. As a result, some native CDX query params are not supported, such as setting cdx output format."
      ]
    },
    {
      "cell_type": "code",
      "execution_count": null,
      "metadata": {
        "colab": {
          "base_uri": "https://localhost:8080/",
          "height": 839
        },
        "id": "KGE1b5DRlG4i",
        "outputId": "e4663ff5-84b6-4f37-8ac3-918717d5a0dc"
      },
      "outputs": [],
      "source": [
        "webpage = \"www.natlib.govt.nz\"\n",
        "\n",
        "df_captures = want.query_cdx_index(webpage)\n",
        "df_captures"
      ]
    },
    {
      "cell_type": "markdown",
      "metadata": {
        "id": "7CJJM3So4KRv"
      },
      "source": [
        "Note that the query results above is actually the same as timemap. But in our function, we have added a \"access_url\" column which contains actual URL for each webpage snapshot."
      ]
    },
    {
      "cell_type": "code",
      "execution_count": null,
      "metadata": {},
      "outputs": [],
      "source": [
        "# Furthermore, we can also query the CDX index for other types of files, such as images, videos, etc.\n",
        "# However, due to the architecture design, we cannot do a fuzzy query for these types of files. \n",
        "# Instead, we will need to query the webpage at least from the first-level subdomain.\n",
        "webpage = \"covid19.govt.nz/assets/\"\n",
        "\n",
        "df_captures = want.query_cdx_index(webpage, filter=\"mimetype:application/pdf\", matchType=\"prefix\")\n",
        "df_captures[\"original_file_name\"] = df_captures[\"urlkey\"].str.split(\"/\").str[-1]\n",
        "df_captures"
      ]
    },
    {
      "cell_type": "markdown",
      "metadata": {},
      "source": [
        "> HANDS-ON: Query the CDX index for all PNG files from the given webpage."
      ]
    },
    {
      "cell_type": "code",
      "execution_count": null,
      "metadata": {},
      "outputs": [],
      "source": [
        "# webpage = \"covid19.govt.nz/assets/\"\n",
        "\n",
        "# df_captures = want.query_cdx_index(webpage, filter=\"mimetype:image/png\", matchType=\"prefix\")\n",
        "# df_captures[\"original_file_name\"] = df_captures[\"urlkey\"].str.split(\"/\").str[-1]\n",
        "# df_captures"
      ]
    },
    {
      "cell_type": "markdown",
      "metadata": {
        "id": "F3bXp5P3mQiX"
      },
      "source": [
        "## Access WARC file\n",
        "\n",
        "In the following section, we will access real WARC files and its corresponding CDX files selected from the NLNZ web archive dataset."
      ]
    },
    {
      "cell_type": "code",
      "execution_count": null,
      "metadata": {
        "colab": {
          "base_uri": "https://localhost:8080/"
        },
        "id": "ATZNKUoGlqre",
        "outputId": "228dc67b-5002-4a25-d9e9-3bc2cd2d1ef2"
      },
      "outputs": [],
      "source": [
        "bucket_name = \"ndha-public-data-ap-southeast-2\"\n",
        "folder_prefix = \"iPRES-2025\"\n",
        "\n",
        "want.list_s3_files(bucket_name, folder_prefix)"
      ]
    },
    {
      "cell_type": "markdown",
      "metadata": {},
      "source": [
        "Let's have a look at the CDX file first.\n",
        "\n",
        "Here we have followed the standard 11-field format as described in the [CDX documentation](https://iipc.github.io/warc-specifications/specifications/cdx-format/cdx-2015/).\n",
        "\n",
        "These fields consist of the following:\n",
        "\n",
        "1. N: massaged url\n",
        "2. b: date\n",
        "3. a: original url\n",
        "4. m: mime type of original document\n",
        "5. s: response code\n",
        "6. k: new style checksum\n",
        "7. r: redirect\n",
        "8. M: meta tags \n",
        "9. S: compressed record size\n",
        "10. V: compressed payload offset \n",
        "11. g: file name\n",
        "\n",
        "The following cell reads a CDX index data into pandas DataFrame."
      ]
    },
    {
      "cell_type": "code",
      "execution_count": null,
      "metadata": {},
      "outputs": [],
      "source": [
        "import pandas as pd\n",
        "\n",
        "\n",
        "object_key = 'iPRES-2025/test/2023-12-14_IE89493927/IE89493927.cdx'\n",
        "df = pd.read_csv(f\"s3://{bucket_name}/{object_key}\", sep=\" \", skiprows=1)\n",
        "df.columns = ['N', 'b', 'a', 'm', 's', 'k', 'r', 'M', 'S', 'V', 'g']\n",
        "df.head()"
      ]
    },
    {
      "cell_type": "markdown",
      "metadata": {},
      "source": [
        "Using the information from the CDX file, we can extract a specific payload from the WARC file."
      ]
    },
    {
      "cell_type": "code",
      "execution_count": null,
      "metadata": {
        "colab": {
          "base_uri": "https://localhost:8080/"
        },
        "id": "iBzSWb6TmT-p",
        "outputId": "6666477e-311e-4410-cc16-8132ebbb94fa"
      },
      "outputs": [],
      "source": [
        "html_payload = want.extract_payload(\"s3://ndha-public-data-ap-southeast-2/iPRES-2025/test/2023-12-14_IE89493927/FL89493929_NLNZ-20231212233435565-00000-72544~wlgprdwctweb01.natlib.govt.nz~8443.warc.gz\",offset=3126252)"
      ]
    },
    {
      "cell_type": "markdown",
      "metadata": {},
      "source": [
        "After we have extracted the payload, we can use BeautifulSoup module to parse it and then extract the text content."
      ]
    },
    {
      "cell_type": "code",
      "execution_count": null,
      "metadata": {},
      "outputs": [],
      "source": [
        "from bs4 import BeautifulSoup\n",
        "\n",
        "# Parse HTML\n",
        "soup = BeautifulSoup(html_payload, \"html.parser\")\n",
        "\n",
        "# Get all <p> elements as separate paragraphs\n",
        "paragraphs = [p.get_text(\" \", strip=True) for p in soup.find_all(\"p\")]\n",
        "\n",
        "for para in paragraphs:\n",
        "    print(para)"
      ]
    },
    {
      "cell_type": "code",
      "execution_count": null,
      "metadata": {},
      "outputs": [],
      "source": [
        "# The above script has been wrapped into a function in `want.extract_content_html()`\n",
        "# e.g.,\n",
        "html_payload = want.extract_payload(find_warc_file_path(warc_file), warc_offset)\n",
        "content = want.extract_content_html(html_payload)"
      ]
    }
  ],
  "metadata": {
    "colab": {
      "provenance": [],
      "toc_visible": true
    },
    "kernelspec": {
      "display_name": ".venv",
      "language": "python",
      "name": "python3"
    },
    "language_info": {
      "codemirror_mode": {
        "name": "ipython",
        "version": 3
      },
      "file_extension": ".py",
      "mimetype": "text/x-python",
      "name": "python",
      "nbconvert_exporter": "python",
      "pygments_lexer": "ipython3",
      "version": "3.11.6"
    }
  },
  "nbformat": 4,
  "nbformat_minor": 0
}
